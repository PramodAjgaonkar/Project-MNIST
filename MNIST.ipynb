{
  "nbformat": 4,
  "nbformat_minor": 0,
  "metadata": {
    "colab": {
      "name": "MNIST.ipynb",
      "provenance": []
    },
    "kernelspec": {
      "name": "python3",
      "display_name": "Python 3"
    },
    "accelerator": "GPU"
  },
  "cells": [
    {
      "cell_type": "markdown",
      "metadata": {
        "id": "TqLFcfpCuoVP",
        "colab_type": "text"
      },
      "source": [
        "# MNIST Digit Classifier - 99% Accuracy with less than 10k parameters.\n",
        "\n"
      ]
    },
    {
      "cell_type": "code",
      "metadata": {
        "id": "NkgC3d4Xr3ou",
        "colab_type": "code",
        "colab": {}
      },
      "source": [
        "# Importing required Libraries.\n",
        "import tensorflow as tf\n",
        "from tensorflow.keras.models import Sequential\n",
        "from tensorflow.keras.layers import Dense, Flatten, Dropout, Conv2D, MaxPool2D, BatchNormalization, ReLU\n",
        "from tensorflow.keras.datasets import mnist\n",
        "import numpy as np\n",
        "import pandas as pd\n",
        "import matplotlib.pyplot as plt\n",
        "%matplotlib inline"
      ],
      "execution_count": 0,
      "outputs": []
    },
    {
      "cell_type": "code",
      "metadata": {
        "id": "3mOlKPzgr99P",
        "colab_type": "code",
        "colab": {}
      },
      "source": [
        "# Loading Dataset & Normalizing the pixel values between 0 to 1.\n",
        "(train_images, train_labels), (test_images, test_labels) = mnist.load_data()\n",
        "train_images, test_images = train_images/255.0, test_images/255.0"
      ],
      "execution_count": 0,
      "outputs": []
    },
    {
      "cell_type": "code",
      "metadata": {
        "id": "vt9Xv9Yovoas",
        "colab_type": "code",
        "colab": {
          "base_uri": "https://localhost:8080/",
          "height": 315
        },
        "outputId": "8380aabd-7a14-47b9-d011-c3f11ebd5a81"
      },
      "source": [
        "# Checking the Data.\n",
        "print(\"Testing the entry for Image and Label.\")\n",
        "plt.imshow(test_images[0])\n",
        "plt.show()\n",
        "print(f\"\\n This is a {test_labels[0]}.\")"
      ],
      "execution_count": 3,
      "outputs": [
        {
          "output_type": "stream",
          "text": [
            "Testing the entry for Image and Label.\n"
          ],
          "name": "stdout"
        },
        {
          "output_type": "display_data",
          "data": {
            "image/png": "[encoded data removed]",
            "text/plain": [
              "<Figure size 432x288 with 1 Axes>"
            ]
          },
          "metadata": {
            "tags": [],
            "needs_background": "light"
          }
        },
        {
          "output_type": "stream",
          "text": [
            "\n",
            " This is a 7.\n"
          ],
          "name": "stdout"
        }
      ]
    },
    {
      "cell_type": "code",
      "metadata": {
        "id": "VV8lATzCwS8X",
        "colab_type": "code",
        "colab": {
          "base_uri": "https://localhost:8080/",
          "height": 529
        },
        "outputId": "7bcabf7b-5337-48f9-f028-09a1d0bf1173"
      },
      "source": [
        "# Creating the Model.\n",
        "\n",
        "model = Sequential([\n",
        "                    Conv2D(16, 5, input_shape=(28, 28, 1)),\n",
        "                    BatchNormalization(),\n",
        "                    ReLU(),\n",
        "                    MaxPool2D(),\n",
        "                    Conv2D(16, 5),\n",
        "                    BatchNormalization(),\n",
        "                    ReLU(),\n",
        "                    MaxPool2D(),\n",
        "                    Flatten(),\n",
        "                    Dropout(0.3),\n",
        "                    Dense(10, activation=\"softmax\"),\n",
        "])\n",
        "\n",
        "model.summary()"
      ],
      "execution_count": 4,
      "outputs": [
        {
          "output_type": "stream",
          "text": [
            "Model: \"sequential\"\n",
            "_________________________________________________________________\n",
            "Layer (type)                 Output Shape              Param #   \n",
            "=================================================================\n",
            "conv2d (Conv2D)              (None, 24, 24, 16)        416       \n",
            "_________________________________________________________________\n",
            "batch_normalization (BatchNo (None, 24, 24, 16)        64        \n",
            "_________________________________________________________________\n",
            "re_lu (ReLU)                 (None, 24, 24, 16)        0         \n",
            "_________________________________________________________________\n",
            "max_pooling2d (MaxPooling2D) (None, 12, 12, 16)        0         \n",
            "_________________________________________________________________\n",
            "conv2d_1 (Conv2D)            (None, 8, 8, 16)          6416      \n",
            "_________________________________________________________________\n",
            "batch_normalization_1 (Batch (None, 8, 8, 16)          64        \n",
            "_________________________________________________________________\n",
            "re_lu_1 (ReLU)               (None, 8, 8, 16)          0         \n",
            "_________________________________________________________________\n",
            "max_pooling2d_1 (MaxPooling2 (None, 4, 4, 16)          0         \n",
            "_________________________________________________________________\n",
            "flatten (Flatten)            (None, 256)               0         \n",
            "_________________________________________________________________\n",
            "dropout (Dropout)            (None, 256)               0         \n",
            "_________________________________________________________________\n",
            "dense (Dense)                (None, 10)                2570      \n",
            "=================================================================\n",
            "Total params: 9,530\n",
            "Trainable params: 9,466\n",
            "Non-trainable params: 64\n",
            "_________________________________________________________________\n"
          ],
          "name": "stdout"
        }
      ]
    },
    {
      "cell_type": "code",
      "metadata": {
        "id": "RGl1R6NQAwSj",
        "colab_type": "code",
        "colab": {}
      },
      "source": [
        "# Compiling the Model.\n",
        "optimizer = tf.keras.optimizers.Adam()\n",
        "loss = tf.keras.losses.SparseCategoricalCrossentropy()\n",
        "metrics = [\"accuracy\"]\n",
        "\n",
        "model.compile(optimizer=optimizer, loss=loss, metrics=metrics)\n"
      ],
      "execution_count": 0,
      "outputs": []
    },
    {
      "cell_type": "code",
      "metadata": {
        "id": "UGZbwtT4GHnH",
        "colab_type": "code",
        "colab": {
          "base_uri": "https://localhost:8080/",
          "height": 529
        },
        "outputId": "70ec2956-e2d1-42a3-e984-391de27d4fbc"
      },
      "source": [
        "# Training the Model & Validating the Data.\n",
        "\n",
        "history = model.fit(train_images[..., np.newaxis], \n",
        "                    train_labels, epochs=15, \n",
        "                    validation_data=(test_images[..., np.newaxis], test_labels), batch_size=10)"
      ],
      "execution_count": 6,
      "outputs": [
        {
          "output_type": "stream",
          "text": [
            "Epoch 1/15\n",
            "6000/6000 [==============================] - 25s 4ms/step - loss: 0.1852 - accuracy: 0.9424 - val_loss: 0.0540 - val_accuracy: 0.9814\n",
            "Epoch 2/15\n",
            "6000/6000 [==============================] - 24s 4ms/step - loss: 0.0814 - accuracy: 0.9749 - val_loss: 0.0382 - val_accuracy: 0.9875\n",
            "Epoch 3/15\n",
            "6000/6000 [==============================] - 24s 4ms/step - loss: 0.0624 - accuracy: 0.9805 - val_loss: 0.0344 - val_accuracy: 0.9887\n",
            "Epoch 4/15\n",
            "6000/6000 [==============================] - 24s 4ms/step - loss: 0.0545 - accuracy: 0.9826 - val_loss: 0.0292 - val_accuracy: 0.9907\n",
            "Epoch 5/15\n",
            "6000/6000 [==============================] - 24s 4ms/step - loss: 0.0504 - accuracy: 0.9840 - val_loss: 0.0310 - val_accuracy: 0.9893\n",
            "Epoch 6/15\n",
            "6000/6000 [==============================] - 24s 4ms/step - loss: 0.0469 - accuracy: 0.9854 - val_loss: 0.0289 - val_accuracy: 0.9908\n",
            "Epoch 7/15\n",
            "6000/6000 [==============================] - 24s 4ms/step - loss: 0.0424 - accuracy: 0.9869 - val_loss: 0.0354 - val_accuracy: 0.9887\n",
            "Epoch 8/15\n",
            "6000/6000 [==============================] - 24s 4ms/step - loss: 0.0408 - accuracy: 0.9874 - val_loss: 0.0251 - val_accuracy: 0.9925\n",
            "Epoch 9/15\n",
            "6000/6000 [==============================] - 24s 4ms/step - loss: 0.0386 - accuracy: 0.9879 - val_loss: 0.0266 - val_accuracy: 0.9918\n",
            "Epoch 10/15\n",
            "6000/6000 [==============================] - 24s 4ms/step - loss: 0.0374 - accuracy: 0.9880 - val_loss: 0.0248 - val_accuracy: 0.9918\n",
            "Epoch 11/15\n",
            "6000/6000 [==============================] - 24s 4ms/step - loss: 0.0355 - accuracy: 0.9887 - val_loss: 0.0245 - val_accuracy: 0.9925\n",
            "Epoch 12/15\n",
            "6000/6000 [==============================] - 24s 4ms/step - loss: 0.0342 - accuracy: 0.9896 - val_loss: 0.0248 - val_accuracy: 0.9923\n",
            "Epoch 13/15\n",
            "6000/6000 [==============================] - 24s 4ms/step - loss: 0.0329 - accuracy: 0.9899 - val_loss: 0.0256 - val_accuracy: 0.9915\n",
            "Epoch 14/15\n",
            "6000/6000 [==============================] - 24s 4ms/step - loss: 0.0340 - accuracy: 0.9893 - val_loss: 0.0247 - val_accuracy: 0.9928\n",
            "Epoch 15/15\n",
            "6000/6000 [==============================] - 24s 4ms/step - loss: 0.0313 - accuracy: 0.9899 - val_loss: 0.0280 - val_accuracy: 0.9914\n"
          ],
          "name": "stdout"
        }
      ]
    },
    {
      "cell_type": "code",
      "metadata": {
        "id": "OS6J_NVRTPrQ",
        "colab_type": "code",
        "colab": {
          "base_uri": "https://localhost:8080/",
          "height": 496
        },
        "outputId": "5a2a69d5-d427-4912-e1c1-7a58b3ac7d05"
      },
      "source": [
        "df = pd.DataFrame(history.history)\n",
        "df"
      ],
      "execution_count": 7,
      "outputs": [
        {
          "output_type": "execute_result",
          "data": {
            "text/html": [
              "<div>\n",
              "<style scoped>\n",
              "    .dataframe tbody tr th:only-of-type {\n",
              "        vertical-align: middle;\n",
              "    }\n",
              "\n",
              "    .dataframe tbody tr th {\n",
              "        vertical-align: top;\n",
              "    }\n",
              "\n",
              "    .dataframe thead th {\n",
              "        text-align: right;\n",
              "    }\n",
              "</style>\n",
              "<table border=\"1\" class=\"dataframe\">\n",
              "  <thead>\n",
              "    <tr style=\"text-align: right;\">\n",
              "      <th></th>\n",
              "      <th>loss</th>\n",
              "      <th>accuracy</th>\n",
              "      <th>val_loss</th>\n",
              "      <th>val_accuracy</th>\n",
              "    </tr>\n",
              "  </thead>\n",
              "  <tbody>\n",
              "    <tr>\n",
              "      <th>0</th>\n",
              "      <td>0.185212</td>\n",
              "      <td>0.942383</td>\n",
              "      <td>0.053998</td>\n",
              "      <td>0.9814</td>\n",
              "    </tr>\n",
              "    <tr>\n",
              "      <th>1</th>\n",
              "      <td>0.081354</td>\n",
              "      <td>0.974867</td>\n",
              "      <td>0.038174</td>\n",
              "      <td>0.9875</td>\n",
              "    </tr>\n",
              "    <tr>\n",
              "      <th>2</th>\n",
              "      <td>0.062444</td>\n",
              "      <td>0.980467</td>\n",
              "      <td>0.034403</td>\n",
              "      <td>0.9887</td>\n",
              "    </tr>\n",
              "    <tr>\n",
              "      <th>3</th>\n",
              "      <td>0.054514</td>\n",
              "      <td>0.982633</td>\n",
              "      <td>0.029238</td>\n",
              "      <td>0.9907</td>\n",
              "    </tr>\n",
              "    <tr>\n",
              "      <th>4</th>\n",
              "      <td>0.050352</td>\n",
              "      <td>0.984050</td>\n",
              "      <td>0.030984</td>\n",
              "      <td>0.9893</td>\n",
              "    </tr>\n",
              "    <tr>\n",
              "      <th>5</th>\n",
              "      <td>0.046921</td>\n",
              "      <td>0.985400</td>\n",
              "      <td>0.028862</td>\n",
              "      <td>0.9908</td>\n",
              "    </tr>\n",
              "    <tr>\n",
              "      <th>6</th>\n",
              "      <td>0.042360</td>\n",
              "      <td>0.986933</td>\n",
              "      <td>0.035427</td>\n",
              "      <td>0.9887</td>\n",
              "    </tr>\n",
              "    <tr>\n",
              "      <th>7</th>\n",
              "      <td>0.040819</td>\n",
              "      <td>0.987367</td>\n",
              "      <td>0.025124</td>\n",
              "      <td>0.9925</td>\n",
              "    </tr>\n",
              "    <tr>\n",
              "      <th>8</th>\n",
              "      <td>0.038556</td>\n",
              "      <td>0.987933</td>\n",
              "      <td>0.026650</td>\n",
              "      <td>0.9918</td>\n",
              "    </tr>\n",
              "    <tr>\n",
              "      <th>9</th>\n",
              "      <td>0.037426</td>\n",
              "      <td>0.987983</td>\n",
              "      <td>0.024765</td>\n",
              "      <td>0.9918</td>\n",
              "    </tr>\n",
              "    <tr>\n",
              "      <th>10</th>\n",
              "      <td>0.035479</td>\n",
              "      <td>0.988700</td>\n",
              "      <td>0.024470</td>\n",
              "      <td>0.9925</td>\n",
              "    </tr>\n",
              "    <tr>\n",
              "      <th>11</th>\n",
              "      <td>0.034171</td>\n",
              "      <td>0.989617</td>\n",
              "      <td>0.024794</td>\n",
              "      <td>0.9923</td>\n",
              "    </tr>\n",
              "    <tr>\n",
              "      <th>12</th>\n",
              "      <td>0.032914</td>\n",
              "      <td>0.989917</td>\n",
              "      <td>0.025595</td>\n",
              "      <td>0.9915</td>\n",
              "    </tr>\n",
              "    <tr>\n",
              "      <th>13</th>\n",
              "      <td>0.033982</td>\n",
              "      <td>0.989267</td>\n",
              "      <td>0.024688</td>\n",
              "      <td>0.9928</td>\n",
              "    </tr>\n",
              "    <tr>\n",
              "      <th>14</th>\n",
              "      <td>0.031324</td>\n",
              "      <td>0.989917</td>\n",
              "      <td>0.028048</td>\n",
              "      <td>0.9914</td>\n",
              "    </tr>\n",
              "  </tbody>\n",
              "</table>\n",
              "</div>"
            ],
            "text/plain": [
              "        loss  accuracy  val_loss  val_accuracy\n",
              "0   0.185212  0.942383  0.053998        0.9814\n",
              "1   0.081354  0.974867  0.038174        0.9875\n",
              "2   0.062444  0.980467  0.034403        0.9887\n",
              "3   0.054514  0.982633  0.029238        0.9907\n",
              "4   0.050352  0.984050  0.030984        0.9893\n",
              "5   0.046921  0.985400  0.028862        0.9908\n",
              "6   0.042360  0.986933  0.035427        0.9887\n",
              "7   0.040819  0.987367  0.025124        0.9925\n",
              "8   0.038556  0.987933  0.026650        0.9918\n",
              "9   0.037426  0.987983  0.024765        0.9918\n",
              "10  0.035479  0.988700  0.024470        0.9925\n",
              "11  0.034171  0.989617  0.024794        0.9923\n",
              "12  0.032914  0.989917  0.025595        0.9915\n",
              "13  0.033982  0.989267  0.024688        0.9928\n",
              "14  0.031324  0.989917  0.028048        0.9914"
            ]
          },
          "metadata": {
            "tags": []
          },
          "execution_count": 7
        }
      ]
    },
    {
      "cell_type": "code",
      "metadata": {
        "id": "sOV8SvLdG82A",
        "colab_type": "code",
        "colab": {
          "base_uri": "https://localhost:8080/",
          "height": 413
        },
        "outputId": "d0e9fad0-c629-4a83-f4c9-c7dfd9dae161"
      },
      "source": [
        "# Plotting Accuracy and Validation Loss.\n",
        "plt.figure(figsize=(25,7))\n",
        "plt.plot(df[\"loss\"])\n",
        "plt.plot(df[\"val_loss\"])\n",
        "plt.xticks(np.arange(1, 16))\n",
        "plt.legend([\"Loss\", \"Validation_Loss\"])\n"
      ],
      "execution_count": 8,
      "outputs": [
        {
          "output_type": "execute_result",
          "data": {
            "text/plain": [
              "<matplotlib.legend.Legend at 0x7f1cd0599ba8>"
            ]
          },
          "metadata": {
            "tags": []
          },
          "execution_count": 8
        },
        {
          "output_type": "display_data",
          "data": {
            "image/png": "[encoded data removed]",
            "text/plain": [
              "<Figure size 1800x504 with 1 Axes>"
            ]
          },
          "metadata": {
            "tags": [],
            "needs_background": "light"
          }
        }
      ]
    },
    {
      "cell_type": "code",
      "metadata": {
        "id": "RvT4V3z15Ezd",
        "colab_type": "code",
        "colab": {
          "base_uri": "https://localhost:8080/",
          "height": 34
        },
        "outputId": "7e65d7a9-5ef0-4a84-8d5c-fd7e9bc651c7"
      },
      "source": [
        "model_val_acc = round(df[\"val_accuracy\"].iloc[-1]*100,2)\n",
        "print(f\"The Model's Validation Accuracy based on Test Dataset = {model_val_acc}\")"
      ],
      "execution_count": 9,
      "outputs": [
        {
          "output_type": "stream",
          "text": [
            "The Model's Validation Accuracy based on Test Dataset = 99.14\n"
          ],
          "name": "stdout"
        }
      ]
    },
    {
      "cell_type": "markdown",
      "metadata": {
        "id": "2d9ODH6aBroR",
        "colab_type": "text"
      },
      "source": [
        "### Completed MNIST Digit Classifier - Above 99% Accuracy with less than 10k parameters."
      ]
    }
  ]
}